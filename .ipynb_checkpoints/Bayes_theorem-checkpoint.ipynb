{
 "cells": [
  {
   "cell_type": "markdown",
   "id": "04a3e559",
   "metadata": {},
   "source": [
    "# Bayes Theorem"
   ]
  },
  {
   "cell_type": "markdown",
   "id": "14ba1528",
   "metadata": {},
   "source": [
    "Bayesian is all about updating informationto prior existing fact."
   ]
  },
  {
   "cell_type": "markdown",
   "id": "385a8e58",
   "metadata": {},
   "source": [
    "for example: if someone buy a briefcase , he is more likely 80% to be a lawyer  and 10% to be a employee.\n",
    "    and population lawyer to employee ratio is 1:10.\n",
    "    what bayesian gonna do is updating the information of population ratio to chance of briefcase buyer to be a lawyer or not.\n",
    "    "
   ]
  },
  {
   "cell_type": "code",
   "execution_count": 1,
   "id": "b78c0701",
   "metadata": {},
   "outputs": [],
   "source": [
    "P_H =  0.1 #P(H) Prior\n",
    "P_E_H = 0.8 #P(E|H) the probability given that the hypothesis is true(Likelihood)\n",
    "P_LH = 0.9 #P(LH)we can said this is the inverse of prior. or the ratio population that is not lawyer.\n",
    "P_E_LH = 0.4 #P(E|LH)the probability given that the hypothesis is not true"
   ]
  },
  {
   "cell_type": "code",
   "execution_count": 2,
   "id": "14797e97",
   "metadata": {},
   "outputs": [],
   "source": [
    "P_H_E = (P_H*P_E_H)/((P_H*P_E_H)+(P_LH*P_E_LH))"
   ]
  },
  {
   "cell_type": "code",
   "execution_count": 3,
   "id": "06c6baa6",
   "metadata": {},
   "outputs": [
    {
     "data": {
      "text/plain": [
       "0.18181818181818182"
      ]
     },
     "execution_count": 3,
     "metadata": {},
     "output_type": "execute_result"
    }
   ],
   "source": [
    "P_H_E"
   ]
  }
 ],
 "metadata": {
  "kernelspec": {
   "display_name": "Python 3 (ipykernel)",
   "language": "python",
   "name": "python3"
  },
  "language_info": {
   "codemirror_mode": {
    "name": "ipython",
    "version": 3
   },
   "file_extension": ".py",
   "mimetype": "text/x-python",
   "name": "python",
   "nbconvert_exporter": "python",
   "pygments_lexer": "ipython3",
   "version": "3.8.10"
  }
 },
 "nbformat": 4,
 "nbformat_minor": 5
}
