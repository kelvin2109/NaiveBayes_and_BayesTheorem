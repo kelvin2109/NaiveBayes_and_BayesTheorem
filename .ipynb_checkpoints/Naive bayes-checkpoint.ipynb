{
 "cells": [
  {
   "cell_type": "code",
   "execution_count": 48,
   "id": "d13141f1",
   "metadata": {},
   "outputs": [],
   "source": [
    "import numpy as np\n",
    "import pandas as pd"
   ]
  },
  {
   "cell_type": "code",
   "execution_count": 49,
   "id": "d12ebb78",
   "metadata": {},
   "outputs": [],
   "source": [
    "datas = {'Gender':['Men','Men','Female','Men','Female','Female','Men'],\n",
    "         'Age':['Young','Old','Old','Teen','Young','Old','Teen'],\n",
    "        'default':['Yes','Yes','Yes','No','No','No','No']}"
   ]
  },
  {
   "cell_type": "code",
   "execution_count": 50,
   "id": "6c3b9fb4",
   "metadata": {},
   "outputs": [],
   "source": [
    "df = pd.DataFrame(data=datas)\n"
   ]
  },
  {
   "cell_type": "code",
   "execution_count": 51,
   "id": "0e885b93",
   "metadata": {},
   "outputs": [
    {
     "data": {
      "text/html": [
       "<div>\n",
       "<style scoped>\n",
       "    .dataframe tbody tr th:only-of-type {\n",
       "        vertical-align: middle;\n",
       "    }\n",
       "\n",
       "    .dataframe tbody tr th {\n",
       "        vertical-align: top;\n",
       "    }\n",
       "\n",
       "    .dataframe thead th {\n",
       "        text-align: right;\n",
       "    }\n",
       "</style>\n",
       "<table border=\"1\" class=\"dataframe\">\n",
       "  <thead>\n",
       "    <tr style=\"text-align: right;\">\n",
       "      <th></th>\n",
       "      <th>Gender</th>\n",
       "      <th>Age</th>\n",
       "      <th>default</th>\n",
       "    </tr>\n",
       "  </thead>\n",
       "  <tbody>\n",
       "    <tr>\n",
       "      <th>0</th>\n",
       "      <td>Men</td>\n",
       "      <td>Young</td>\n",
       "      <td>Yes</td>\n",
       "    </tr>\n",
       "    <tr>\n",
       "      <th>1</th>\n",
       "      <td>Men</td>\n",
       "      <td>Old</td>\n",
       "      <td>Yes</td>\n",
       "    </tr>\n",
       "    <tr>\n",
       "      <th>2</th>\n",
       "      <td>Female</td>\n",
       "      <td>Old</td>\n",
       "      <td>Yes</td>\n",
       "    </tr>\n",
       "    <tr>\n",
       "      <th>3</th>\n",
       "      <td>Men</td>\n",
       "      <td>Teen</td>\n",
       "      <td>No</td>\n",
       "    </tr>\n",
       "    <tr>\n",
       "      <th>4</th>\n",
       "      <td>Female</td>\n",
       "      <td>Young</td>\n",
       "      <td>No</td>\n",
       "    </tr>\n",
       "    <tr>\n",
       "      <th>5</th>\n",
       "      <td>Female</td>\n",
       "      <td>Old</td>\n",
       "      <td>No</td>\n",
       "    </tr>\n",
       "    <tr>\n",
       "      <th>6</th>\n",
       "      <td>Men</td>\n",
       "      <td>Teen</td>\n",
       "      <td>No</td>\n",
       "    </tr>\n",
       "  </tbody>\n",
       "</table>\n",
       "</div>"
      ],
      "text/plain": [
       "   Gender    Age default\n",
       "0     Men  Young     Yes\n",
       "1     Men    Old     Yes\n",
       "2  Female    Old     Yes\n",
       "3     Men   Teen      No\n",
       "4  Female  Young      No\n",
       "5  Female    Old      No\n",
       "6     Men   Teen      No"
      ]
     },
     "execution_count": 51,
     "metadata": {},
     "output_type": "execute_result"
    }
   ],
   "source": [
    "df"
   ]
  },
  {
   "cell_type": "code",
   "execution_count": 52,
   "id": "4713ab1e",
   "metadata": {},
   "outputs": [
    {
     "data": {
      "text/plain": [
       "No     4\n",
       "Yes    3\n",
       "Name: default, dtype: int64"
      ]
     },
     "execution_count": 52,
     "metadata": {},
     "output_type": "execute_result"
    }
   ],
   "source": [
    "df['default'].value_counts()"
   ]
  },
  {
   "cell_type": "code",
   "execution_count": 53,
   "id": "78d74450",
   "metadata": {},
   "outputs": [],
   "source": [
    "No_counts = df['default'].value_counts()[0]\n",
    "Yes_counts = df['default'].value_counts()[1]"
   ]
  },
  {
   "cell_type": "markdown",
   "id": "8bd0f703",
   "metadata": {},
   "source": [
    "# Lets, say we want to know , if the creditor that is young and men is more likely to default or not."
   ]
  },
  {
   "cell_type": "markdown",
   "id": "5b352b31",
   "metadata": {},
   "source": [
    "# Probability of yes and no in total"
   ]
  },
  {
   "cell_type": "code",
   "execution_count": 87,
   "id": "6be5fb10",
   "metadata": {},
   "outputs": [],
   "source": [
    "P_yes = Yes_counts/(Yes_counts+No_counts)"
   ]
  },
  {
   "cell_type": "code",
   "execution_count": 88,
   "id": "56c696ac",
   "metadata": {},
   "outputs": [],
   "source": [
    "P_no = No_counts/(Yes_counts+No_counts)"
   ]
  },
  {
   "cell_type": "markdown",
   "id": "f256de6f",
   "metadata": {},
   "source": [
    "# Column_1 Men"
   ]
  },
  {
   "cell_type": "code",
   "execution_count": 66,
   "id": "e5efe9aa",
   "metadata": {},
   "outputs": [],
   "source": [
    "Men_yes= df.loc[(df['default']=='Yes')&(df['Gender']=='Men')].value_counts().sum()"
   ]
  },
  {
   "cell_type": "code",
   "execution_count": 70,
   "id": "c25cfd49",
   "metadata": {},
   "outputs": [],
   "source": [
    "P_Men_yes = Men_yes/Yes_counts"
   ]
  },
  {
   "cell_type": "code",
   "execution_count": 71,
   "id": "e82b7da9",
   "metadata": {},
   "outputs": [],
   "source": [
    "Men_no = df.loc[(df['default']=='No')&(df['Gender']=='Men')].value_counts().sum()"
   ]
  },
  {
   "cell_type": "code",
   "execution_count": 73,
   "id": "db2d13e1",
   "metadata": {},
   "outputs": [],
   "source": [
    "P_Men_no = Men_no/No_counts"
   ]
  },
  {
   "cell_type": "markdown",
   "id": "0ea274f3",
   "metadata": {},
   "source": [
    "# Column_2 Age"
   ]
  },
  {
   "cell_type": "code",
   "execution_count": 79,
   "id": "df3b970e",
   "metadata": {},
   "outputs": [],
   "source": [
    "Young_yes = df.loc[(df['default']=='Yes')&(df['Age']=='Young')].value_counts().sum()"
   ]
  },
  {
   "cell_type": "code",
   "execution_count": 80,
   "id": "812b55ac",
   "metadata": {},
   "outputs": [],
   "source": [
    "P_Young_yes = Young_yes/Yes_counts"
   ]
  },
  {
   "cell_type": "code",
   "execution_count": 81,
   "id": "06f84f9c",
   "metadata": {},
   "outputs": [],
   "source": [
    "Young_no = df.loc[(df['default']=='No')&(df['Age']=='Young')].value_counts().sum()"
   ]
  },
  {
   "cell_type": "code",
   "execution_count": 84,
   "id": "bcf0cd70",
   "metadata": {},
   "outputs": [],
   "source": [
    "P_Young_no = Young_no/No_counts"
   ]
  },
  {
   "cell_type": "markdown",
   "id": "e9da3b98",
   "metadata": {},
   "source": [
    "# Result"
   ]
  },
  {
   "cell_type": "markdown",
   "id": "216d3bb8",
   "metadata": {},
   "source": [
    "we compare the result between total_yes and total_no."
   ]
  },
  {
   "cell_type": "code",
   "execution_count": 90,
   "id": "717bae33",
   "metadata": {},
   "outputs": [],
   "source": [
    "total_yes = P_yes*P_Young_yes*P_Men_yes "
   ]
  },
  {
   "cell_type": "code",
   "execution_count": 92,
   "id": "1476a736",
   "metadata": {},
   "outputs": [],
   "source": [
    "total_no = P_no*P_Young_no*P_Men_no"
   ]
  },
  {
   "cell_type": "code",
   "execution_count": 93,
   "id": "e5342bc0",
   "metadata": {},
   "outputs": [
    {
     "data": {
      "text/plain": [
       "0.09523809523809523"
      ]
     },
     "execution_count": 93,
     "metadata": {},
     "output_type": "execute_result"
    }
   ],
   "source": [
    "total_yes"
   ]
  },
  {
   "cell_type": "code",
   "execution_count": 94,
   "id": "eb025146",
   "metadata": {},
   "outputs": [
    {
     "data": {
      "text/plain": [
       "0.07142857142857142"
      ]
     },
     "execution_count": 94,
     "metadata": {},
     "output_type": "execute_result"
    }
   ],
   "source": [
    "total_no"
   ]
  },
  {
   "cell_type": "markdown",
   "id": "4b2f5352",
   "metadata": {},
   "source": [
    "so, since total_yes is higher that mean the person that is men and young is more likely to default ."
   ]
  },
  {
   "cell_type": "markdown",
   "id": "9beb583d",
   "metadata": {},
   "source": [
    "one of the problem with naive bayes is if one of our Probability Ex:P_young_no is 0 , it would lead the total_no to became 0.\n",
    "    and this will distort the result. to tackle this problem we to use laplacian correction if one of our probabilities is 0."
   ]
  }
 ],
 "metadata": {
  "kernelspec": {
   "display_name": "Python 3 (ipykernel)",
   "language": "python",
   "name": "python3"
  },
  "language_info": {
   "codemirror_mode": {
    "name": "ipython",
    "version": 3
   },
   "file_extension": ".py",
   "mimetype": "text/x-python",
   "name": "python",
   "nbconvert_exporter": "python",
   "pygments_lexer": "ipython3",
   "version": "3.8.10"
  }
 },
 "nbformat": 4,
 "nbformat_minor": 5
}
